{
 "cells": [
  {
   "cell_type": "code",
   "execution_count": 100,
   "metadata": {
    "collapsed": false
   },
   "outputs": [],
   "source": [
    "from __future__ import print_function\n",
    "\n",
    "import numpy as np\n",
    "import pandas as pd\n",
    "\n",
    "dsrm = pd.read_csv('/home/travis/work/eegs/amia_symp_2017/inferred_measures_dsrm.v1.tsv', delimiter='\\t', header=0)\n",
    "s2s = pd.read_csv('/home/travis/work/eegs/amia_symp_2017/inferred_measures_basic_s2s.v1.tsv', delimiter='\\t', header=0)\n",
    "rnlm = pd.read_csv('/home/travis/work/eegs/amia_symp_2017/inferred_measures_attn_decoder.v1.tsv', delimiter='\\t', header=0)\n",
    "nn_cos = pd.read_csv('/home/travis/work/amia_symp_2017/inferred_measures_nn_cos.v1.tsv', delimiter='\\t', header=0)[:-2]\n",
    "nn_lda = pd.read_csv('/home/travis/work/amia_symp_2017/inferred_measures_nn_lda.v1.tsv', delimiter='\\t', header=0)[:-2]\n",
    "\n",
    "assert dsrm.shape == s2s.shape == nn_cos.shape == nn_lda.shape"
   ]
  },
  {
   "cell_type": "code",
   "execution_count": 115,
   "metadata": {
    "collapsed": false
   },
   "outputs": [
    {
     "name": "stdout",
     "output_type": "stream",
     "text": [
      "AVG Measures\n"
     ]
    },
    {
     "data": {
      "text/html": [
       "<table>\n",
       "<tr><td>Model </td><td>WER1          </td><td>WER2          </td><td>WER3          </td><td>BLEU1         </td><td>BLEU2         </td><td>BLEU3         </td><td>ROUGE1        </td><td>ROUGE2        </td><td>ROUGE3        </td></tr>\n",
       "<tr><td>s2s   </td><td>0.457827650502</td><td>0.525618548248</td><td>0.456161204032</td><td>0.47465430289 </td><td>0.461267762983</td><td>0.40750076036 </td><td>0.442924237923</td><td>0.466839811986</td><td>0.542580686702</td></tr>\n",
       "<tr><td>rnlm  </td><td>0.467793527359</td><td>0.532834763576</td><td>0.509379534118</td><td>0.500602181684</td><td>0.582769710131</td><td>0.774493832671</td><td>0.448647135089</td><td>0.471109232342</td><td>0.453229894246</td></tr>\n",
       "<tr><td>nn_cos</td><td>0.439649998247</td><td>0.681091531246</td><td>0.734565207842</td><td>0.656310700234</td><td>0.538374325095</td><td>0.513177502108</td><td>0.431381365636</td><td>0.666666666667</td><td>0.49940733569 </td></tr>\n",
       "<tr><td>nn_lda</td><td>0.449927589351</td><td>0.598939331045</td><td>0.712569381616</td><td>0.563087112972</td><td>0.505691969978</td><td>0.462758458082</td><td>0.474561138138</td><td>0.666666666667</td><td>0.471757483082</td></tr>\n",
       "<tr><td>dsrm  </td><td>0.689588257107</td><td>0.621702601218</td><td>0.645602533346</td><td>0.479418545242</td><td>0.464067701615</td><td>0.435638484096</td><td>0.575959617336</td><td>0.457056210299</td><td>0.470136355617</td></tr>\n",
       "</table>"
      ],
      "text/plain": [
       "<IPython.core.display.HTML object>"
      ]
     },
     "metadata": {},
     "output_type": "execute_result"
    }
   ],
   "source": [
    "from tabulate import tabulate\n",
    "from IPython.core.display import display, HTML\n",
    "\n",
    "print('AVG Measures')\n",
    "table = [['Model'] + list(measures)]\n",
    "for model in ['s2s', 'rnlm', 'nn_cos', 'nn_lda', 'dsrm']:\n",
    "    other = eval(model)\n",
    "    table.append([model] + list(np.mean(other.values, axis=1)))\n",
    "display(HTML(tabulate(table, tablefmt='html')))\n",
    "\n",
    "\n",
    "    "
   ]
  },
  {
   "cell_type": "code",
   "execution_count": 101,
   "metadata": {
    "collapsed": false
   },
   "outputs": [
    {
     "name": "stdout",
     "output_type": "stream",
     "text": [
      "Wilcoxon Signed Rank Test for [ s2s ]\n",
      "-------  ---------  ------------------\n",
      "Measure  Statistic  p-Value\n",
      "WER1     1700992.5  2.05456392146e-18\n",
      "WER2     1728420.0  1.19337858801e-16\n",
      "WER3     1740447.5  1.99290470163e-14\n",
      "BLEU1    1981767.0  0.004413065068\n",
      "BLEU2    1885934.0  4.01771411365e-06\n",
      "BLEU3    1766403.0  4.21555301271e-14\n",
      "ROUGE1   853050.5   3.09644925523e-167\n",
      "ROUGE2   1004041.5  3.97430629646e-128\n",
      "ROUGE3   1082246.5  1.11783616989e-107\n",
      "-------  ---------  ------------------\n",
      "\n",
      "Wilcoxon Signed Rank Test for [ rnlm ]\n",
      "-------  ---------  -----------------\n",
      "Measure  Statistic  p-Value\n",
      "WER1     1923464.5  3.5250159089e-05\n",
      "WER2     1927010.0  3.81833995469e-05\n",
      "WER3     1941739.0  0.000213764879706\n",
      "BLEU1    1971272.5  0.00505654316302\n",
      "BLEU2    1992155.5  0.0193173066226\n",
      "BLEU3    2057787.5  0.450966835508\n",
      "ROUGE1   1678728.0  8.05071062738e-21\n",
      "ROUGE2   1866304.5  9.18416732886e-08\n",
      "ROUGE3   1883080.0  9.03637333173e-07\n",
      "-------  ---------  -----------------\n",
      "\n",
      "Wilcoxon Signed Rank Test for [ nn_cos ]\n",
      "-------  ---------  -----------------\n",
      "Measure  Statistic  p-Value\n",
      "WER1     1815437.0  6.75409327129e-11\n",
      "WER2     1818450.5  8.68953000489e-11\n",
      "WER3     1827742.0  3.32651124644e-10\n",
      "BLEU1    1701586.5  6.71521312384e-17\n",
      "BLEU2    1688903.0  5.81441658537e-18\n",
      "BLEU3    1672605.5  1.73409109695e-19\n",
      "ROUGE1   1810649.0  2.2423633046e-11\n",
      "ROUGE2   1769367.0  1.51829225354e-14\n",
      "ROUGE3   1733186.0  7.10317652367e-17\n",
      "-------  ---------  -----------------\n",
      "\n",
      "Wilcoxon Signed Rank Test for [ nn_lda ]\n",
      "-------  ---------  -----------------\n",
      "Measure  Statistic  p-Value\n",
      "WER1     2019967.5  0.0524001508436\n",
      "WER2     2011045.0  0.0325663177785\n",
      "WER3     2014886.5  0.0465773952814\n",
      "BLEU1    1951521.5  0.00332224224767\n",
      "BLEU2    1930869.0  0.000759703113607\n",
      "BLEU3    1912643.0  0.000125599848089\n",
      "ROUGE1   2008316.0  0.0186430470286\n",
      "ROUGE2   1986489.5  0.00416662542836\n",
      "ROUGE3   1953104.5  0.000445887292381\n",
      "-------  ---------  -----------------\n",
      "\n"
     ]
    }
   ],
   "source": [
    "from scipy import stats\n",
    "from tabulate import tabulate\n",
    "\n",
    "for model in ['s2s', 'rnlm', 'nn_cos', 'nn_lda']:\n",
    "    print('Wilcoxon Signed Rank Test for [', model, ']')\n",
    "    other = eval(model)\n",
    "    table = [['Measure', 'Statistic', 'p-Value']]\n",
    "    for i, measure in enumerate(measures):\n",
    "        stat, pvalue = stats.wilcoxon(dsrm.values[:,i], other.values[:,i])\n",
    "        table.append([measure, stat, pvalue])\n",
    "    print(tabulate(table))\n",
    "    print()"
   ]
  },
  {
   "cell_type": "code",
   "execution_count": null,
   "metadata": {
    "collapsed": true
   },
   "outputs": [],
   "source": [
    "\n",
    "\n"
   ]
  }
 ],
 "metadata": {
  "kernelspec": {
   "display_name": "Python 2",
   "language": "python",
   "name": "python2"
  },
  "language_info": {
   "codemirror_mode": {
    "name": "ipython",
    "version": 2
   },
   "file_extension": ".py",
   "mimetype": "text/x-python",
   "name": "python",
   "nbconvert_exporter": "python",
   "pygments_lexer": "ipython2",
   "version": "2.7.3"
  }
 },
 "nbformat": 4,
 "nbformat_minor": 1
}
